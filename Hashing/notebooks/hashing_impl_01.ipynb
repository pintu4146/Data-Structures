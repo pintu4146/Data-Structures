{
 "cells": [
  {
   "cell_type": "markdown",
   "id": "1a957731",
   "metadata": {},
   "source": [
    "## take hash table of size 7 and simple hash function  key%table_size"
   ]
  },
  {
   "cell_type": "code",
   "execution_count": 24,
   "id": "ebc64726",
   "metadata": {},
   "outputs": [],
   "source": [
    "\n",
    "from typing import Any, Union, Tuple, List\n",
    "# defining the hash function first\n",
    "def hash_function(key: Union[int, str, float, tuple[Tuple, ...]], table_size: int)-> int:\n",
    "    if isinstance(key, int):\n",
    "        return key % table_size\n",
    "    elif isinstance(key, str):\n",
    "        return sum(ord(char) for char in key) % table_size\n",
    "    elif isinstance(key, float):\n",
    "        return int(key) % table_size\n",
    "    elif isinstance(key, tuple):\n",
    "        return sum(hash_function(item, table_size) for item in key) % table_size\n",
    "    else:\n",
    "        raise TypeError(\"Unsupported key type for hashing due to its immutability\")"
   ]
  },
  {
   "cell_type": "code",
   "execution_count": 25,
   "id": "fa0dd264",
   "metadata": {},
   "outputs": [],
   "source": [
    "def storing_key_into_hash_table(key_list: list, table_size: int) -> list:\n",
    "    hash_table_size = table_size\n",
    "    hash_table = [None] * hash_table_size\n",
    "    for key in key_list:\n",
    "        if isinstance(key, (int, str, float, tuple)):\n",
    "            index = hash_function(key, hash_table_size)\n",
    "            if hash_table[index] is None:\n",
    "                hash_table[index] = key\n",
    "            else:\n",
    "                print(f\"Collision detected for key {key} at index {index}.\")\n",
    "        else:\n",
    "            print(f\"Unsupported key type: {type(key)}. Key {key} will be skipped due to its mutability.\") \n",
    "    return hash_table\n",
    "\n",
    "\n",
    "\n"
   ]
  },
  {
   "cell_type": "markdown",
   "id": "21184d50",
   "metadata": {},
   "source": [
    "## See life is  so easy when no one is claim others position( no key to claim same index inside the hash table)"
   ]
  },
  {
   "cell_type": "code",
   "execution_count": 26,
   "id": "894a7244",
   "metadata": {},
   "outputs": [
    {
     "name": "stdout",
     "output_type": "stream",
     "text": [
      "Hash Table: ['hello', 1, 2, 3, 4, 5, (1, 2, 3)]\n"
     ]
    }
   ],
   "source": [
    "key_list = [1, 2, 3, 4, 5, (1,2,3), \"hello\"]\n",
    "table_size = 7\n",
    "hash_table = storing_key_into_hash_table(key_list, table_size)   \n",
    "print(f\"Hash Table: {hash_table}\")"
   ]
  },
  {
   "cell_type": "markdown",
   "id": "527849de",
   "metadata": {},
   "source": [
    "## so as we noticed the key list is independent and there is no key who can claim same place "
   ]
  },
  {
   "cell_type": "code",
   "execution_count": null,
   "id": "45668f63",
   "metadata": {},
   "outputs": [],
   "source": []
  }
 ],
 "metadata": {
  "kernelspec": {
   "display_name": "venv",
   "language": "python",
   "name": "python3"
  },
  "language_info": {
   "codemirror_mode": {
    "name": "ipython",
    "version": 3
   },
   "file_extension": ".py",
   "mimetype": "text/x-python",
   "name": "python",
   "nbconvert_exporter": "python",
   "pygments_lexer": "ipython3",
   "version": "3.10.4"
  }
 },
 "nbformat": 4,
 "nbformat_minor": 5
}
